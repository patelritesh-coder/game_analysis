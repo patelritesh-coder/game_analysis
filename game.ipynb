{
 "cells": [
  {
   "cell_type": "code",
   "execution_count": 53,
   "id": "493c0256",
   "metadata": {},
   "outputs": [],
   "source": [
    "import pandas as pd\n",
    "import numpy as np"
   ]
  },
  {
   "cell_type": "code",
   "execution_count": 54,
   "id": "9bbb2c90",
   "metadata": {},
   "outputs": [
    {
     "name": "stdout",
     "output_type": "stream",
     "text": [
      "<class 'pandas.core.frame.DataFrame'>\n",
      "RangeIndex: 10000 entries, 0 to 9999\n",
      "Data columns (total 20 columns):\n",
      " #   Column                    Non-Null Count  Dtype  \n",
      "---  ------                    --------------  -----  \n",
      " 0   User_ID                   10000 non-null  object \n",
      " 1   Username                  10000 non-null  object \n",
      " 2   Email                     10000 non-null  object \n",
      " 3   Signup_Date               10000 non-null  object \n",
      " 4   Country                   10000 non-null  object \n",
      " 5   Age                       10000 non-null  int64  \n",
      " 6   Gender                    10000 non-null  object \n",
      " 7   Device_Type               10000 non-null  object \n",
      " 8   Game_Title                10000 non-null  object \n",
      " 9   Total_Play_Sessions       10000 non-null  int64  \n",
      " 10  Avg_Session_Duration_Min  10000 non-null  float64\n",
      " 11  Total_Hours_Played        10000 non-null  float64\n",
      " 12  In_Game_Purchases_Count   10000 non-null  int64  \n",
      " 13  Total_Revenue_USD         10000 non-null  float64\n",
      " 14  Last_Login                10000 non-null  object \n",
      " 15  Subscription_Tier         10000 non-null  object \n",
      " 16  Referral_Source           10000 non-null  object \n",
      " 17  Preferred_Game_Mode       10000 non-null  object \n",
      " 18  Rank_Tier                 10000 non-null  object \n",
      " 19  Achievement_Score         10000 non-null  int64  \n",
      "dtypes: float64(3), int64(4), object(13)\n",
      "memory usage: 1.5+ MB\n",
      "None\n",
      "                                User_ID          Username  \\\n",
      "0  7280e6c4-6f7c-45dd-a8fc-c58389ea8e07  geoffreyanderson   \n",
      "1  23c48d4f-f5d0-4ff4-ba0f-2007441b9b57   riverachristian   \n",
      "2  cf8d530c-c137-4346-a78b-e76e36d45e2a        brownchris   \n",
      "3  47fcbe87-a1c1-40c3-b450-1b5692f61538     christopher90   \n",
      "4  0b620a32-9e77-4b4a-9931-f0b654bef095          vfreeman   \n",
      "\n",
      "                      Email  Signup_Date   Country  Age  Gender Device_Type  \\\n",
      "0   haleymitchell@gmail.com  15-Dec-2024   Austria   22   Other      Mobile   \n",
      "1  masonmelissa@hotmail.com  07-Mar-2024     Gabon   22   Other          PC   \n",
      "2     mnichols@mcmillan.net  19-Oct-2023   Ireland   36  Female          PC   \n",
      "3         ttaylor@gmail.com  28-Sep-2023   Belarus   23   Other          PC   \n",
      "4        amanda80@gmail.com  09-Aug-2024  Slovenia   26   Other          PC   \n",
      "\n",
      "  Game_Title  Total_Play_Sessions  Avg_Session_Duration_Min  \\\n",
      "0  MysticWar                   21                      5.78   \n",
      "1  QuestRaid                   22                     32.53   \n",
      "2  QuestRaid                   12                     21.55   \n",
      "3  QuestRaid                   19                     28.36   \n",
      "4  QuestRaid                   18                     17.63   \n",
      "\n",
      "   Total_Hours_Played  In_Game_Purchases_Count  Total_Revenue_USD  \\\n",
      "0               38.41                        6              27.50   \n",
      "1              129.02                       10               2.50   \n",
      "2               62.50                        5              25.56   \n",
      "3               79.40                        4             132.25   \n",
      "4               86.70                        6              20.79   \n",
      "\n",
      "    Last_Login Subscription_Tier Referral_Source Preferred_Game_Mode  \\\n",
      "0  19-May-2025            Silver    Social Media               Co-op   \n",
      "1  12-May-2025              Gold             Ads                Solo   \n",
      "2  03-May-2025            Silver         Organic                Solo   \n",
      "3  08-May-2025            Silver          Friend         Multiplayer   \n",
      "4  24-Apr-2025              Free          Friend         Multiplayer   \n",
      "\n",
      "  Rank_Tier  Achievement_Score  \n",
      "0    Bronze               8721  \n",
      "1    Bronze               3572  \n",
      "2  Platinum               1060  \n",
      "3   Diamond               3591  \n",
      "4   Diamond               2666  \n"
     ]
    }
   ],
   "source": [
    "file_path = r\"D:\\Power BI\\game_analysis\\Matiks - Data Analyst Data - Sheet1.csv\"\n",
    "df = pd.read_csv(file_path)\n",
    "\n",
    "print(df.info())\n",
    "print(df.head())"
   ]
  },
  {
   "cell_type": "code",
   "execution_count": 55,
   "id": "8ed2bc66",
   "metadata": {},
   "outputs": [],
   "source": [
    "# Drop unused columns\n",
    "df_cleaned=df.drop(columns=['Username', 'Email', 'Referral_Source'])"
   ]
  },
  {
   "cell_type": "code",
   "execution_count": 56,
   "id": "afd75d11",
   "metadata": {},
   "outputs": [],
   "source": [
    "# Rename columns to snake_case\n",
    "df_cleaned.columns = df_cleaned.columns.str.strip().str.lower().str.replace(' ', '_').str.replace('-', '_')"
   ]
  },
  {
   "cell_type": "code",
   "execution_count": 57,
   "id": "9ee76d71",
   "metadata": {},
   "outputs": [],
   "source": [
    "df_cleaned['signup_date'] = pd.to_datetime(df_cleaned['signup_date'], format='%d-%b-%Y')\n",
    "df_cleaned['last_login'] = pd.to_datetime(df_cleaned['last_login'], format='%d-%b-%Y')\n",
    "\n",
    "df_cleaned['days_active'] = (df_cleaned['last_login'] - df_cleaned['signup_date']).dt.days"
   ]
  },
  {
   "cell_type": "code",
   "execution_count": 58,
   "id": "2e31a295",
   "metadata": {},
   "outputs": [
    {
     "name": "stdout",
     "output_type": "stream",
     "text": [
      "✅ Cleaned data saved to 'cleaned_matiks_data.csv'\n",
      "<class 'pandas.core.frame.DataFrame'>\n",
      "RangeIndex: 10000 entries, 0 to 9999\n",
      "Data columns (total 18 columns):\n",
      " #   Column                    Non-Null Count  Dtype         \n",
      "---  ------                    --------------  -----         \n",
      " 0   user_id                   10000 non-null  object        \n",
      " 1   signup_date               10000 non-null  datetime64[ns]\n",
      " 2   country                   10000 non-null  object        \n",
      " 3   age                       10000 non-null  int64         \n",
      " 4   gender                    10000 non-null  object        \n",
      " 5   device_type               10000 non-null  object        \n",
      " 6   game_title                10000 non-null  object        \n",
      " 7   total_play_sessions       10000 non-null  int64         \n",
      " 8   avg_session_duration_min  10000 non-null  float64       \n",
      " 9   total_hours_played        10000 non-null  float64       \n",
      " 10  in_game_purchases_count   10000 non-null  int64         \n",
      " 11  total_revenue_usd         10000 non-null  float64       \n",
      " 12  last_login                10000 non-null  datetime64[ns]\n",
      " 13  subscription_tier         10000 non-null  object        \n",
      " 14  preferred_game_mode       10000 non-null  object        \n",
      " 15  rank_tier                 10000 non-null  object        \n",
      " 16  achievement_score         10000 non-null  int64         \n",
      " 17  days_active               10000 non-null  int64         \n",
      "dtypes: datetime64[ns](2), float64(3), int64(5), object(8)\n",
      "memory usage: 1.4+ MB\n",
      "None\n"
     ]
    }
   ],
   "source": [
    "df_cleaned.to_csv(\"cleaned_matiks_data.csv\", index=False)\n",
    "print(\"✅ Cleaned data saved to 'cleaned_matiks_data.csv'\")\n",
    "\n",
    "print(df_cleaned.info())"
   ]
  }
 ],
 "metadata": {
  "kernelspec": {
   "display_name": "env",
   "language": "python",
   "name": "python3"
  },
  "language_info": {
   "codemirror_mode": {
    "name": "ipython",
    "version": 3
   },
   "file_extension": ".py",
   "mimetype": "text/x-python",
   "name": "python",
   "nbconvert_exporter": "python",
   "pygments_lexer": "ipython3",
   "version": "3.13.2"
  }
 },
 "nbformat": 4,
 "nbformat_minor": 5
}
